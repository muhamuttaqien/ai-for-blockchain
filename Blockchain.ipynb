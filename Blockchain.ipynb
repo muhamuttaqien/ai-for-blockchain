{
 "cells": [
  {
   "cell_type": "raw",
   "metadata": {},
   "source": [
    "'''\n",
    "t1: \"Anna sends 2 NC to Mike\"\n",
    "t2: \"Bob sends 4.3 NC to Mike\"\n",
    "t3: \"Mark sends 3.2 NC to Bob\"\n",
    "\n",
    "B1 (\"INIT\", t1, t2, t3) -> 76fd89, B2 (76fd89, t4, t5, t6) -> 8923ff, B3 (8923ff, t7, t8, t9) -> \n",
    "'''"
   ]
  },
  {
   "cell_type": "code",
   "execution_count": 1,
   "metadata": {
    "collapsed": true
   },
   "outputs": [],
   "source": [
    "import hashlib"
   ]
  },
  {
   "cell_type": "code",
   "execution_count": 2,
   "metadata": {
    "collapsed": true
   },
   "outputs": [],
   "source": [
    "t1 = \"Anna sends 2 NC to Mike\"\n",
    "t2 = \"Bob sends 4.3 NC to Mike\"\n",
    "t3 = \"Mark sends 3.2 NC to Bob\"\n",
    "t4 = \"Daniel sends 2 NC to Anna\"\n",
    "t5 = \"Mike sends 4.3 NC to Charlie\"\n",
    "t6 = \"Mike sends 3.2 NC to Daniel\""
   ]
  },
  {
   "cell_type": "code",
   "execution_count": 3,
   "metadata": {
    "collapsed": true
   },
   "outputs": [],
   "source": [
    "class Block():\n",
    "    \n",
    "    def __init__(self, prev_block_hash, transaction):\n",
    "        \n",
    "        self.prev_block_hash = prev_block_hash\n",
    "        self.transaction = transaction\n",
    "        \n",
    "        self.block_data = \"-\".join(self.transaction) + \"-\" + self.prev_block_hash\n",
    "        self.block_hash = hashlib.sha256(self.block_data.encode()).hexdigest()"
   ]
  },
  {
   "cell_type": "code",
   "execution_count": 4,
   "metadata": {},
   "outputs": [
    {
     "name": "stdout",
     "output_type": "stream",
     "text": [
      "Anna sends 2 NC to Mike-Bob sends 4.3 NC to Mike-Initial Block\n",
      "085df45e3388c10603324a678ae09c1f141b33d3543c5062168e32c6b3cdce45\n"
     ]
    }
   ],
   "source": [
    "init_block = Block(\"Initial Block\", [t1, t2])\n",
    "\n",
    "print(init_block.block_data)\n",
    "print(init_block.block_hash)"
   ]
  },
  {
   "cell_type": "code",
   "execution_count": 5,
   "metadata": {},
   "outputs": [
    {
     "name": "stdout",
     "output_type": "stream",
     "text": [
      "Mark sends 3.2 NC to Bob-Daniel sends 2 NC to Anna-085df45e3388c10603324a678ae09c1f141b33d3543c5062168e32c6b3cdce45\n",
      "c4b1eaa3198f518fa3fc157fdf80ab354590dd6b97ca45a837270f32fb175418\n"
     ]
    }
   ],
   "source": [
    "second_block = Block(init_block.block_hash, [t3, t4])\n",
    "\n",
    "print(second_block.block_data)\n",
    "print(second_block.block_hash)"
   ]
  },
  {
   "cell_type": "code",
   "execution_count": 6,
   "metadata": {},
   "outputs": [
    {
     "name": "stdout",
     "output_type": "stream",
     "text": [
      "Mike sends 4.3 NC to Charlie-Mike sends 3.2 NC to Daniel-c4b1eaa3198f518fa3fc157fdf80ab354590dd6b97ca45a837270f32fb175418\n",
      "a49d8daf2d65e0fd42cbfe45e1f84da26689144c565b6c432cf67a5000e0f3b8\n"
     ]
    }
   ],
   "source": [
    "third_block = Block(second_block.block_hash, [t5, t6])\n",
    "\n",
    "print(third_block.block_data)\n",
    "print(third_block.block_hash)"
   ]
  },
  {
   "cell_type": "markdown",
   "metadata": {},
   "source": [
    "---"
   ]
  }
 ],
 "metadata": {
  "kernelspec": {
   "display_name": "Python 3",
   "language": "python",
   "name": "python3"
  },
  "language_info": {
   "codemirror_mode": {
    "name": "ipython",
    "version": 3
   },
   "file_extension": ".py",
   "mimetype": "text/x-python",
   "name": "python",
   "nbconvert_exporter": "python",
   "pygments_lexer": "ipython3",
   "version": "3.6.7"
  }
 },
 "nbformat": 4,
 "nbformat_minor": 2
}
