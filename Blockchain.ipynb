{
 "cells": [
  {
   "cell_type": "raw",
   "metadata": {},
   "source": [
    "'''\n",
    "t1: \"Anna sends 2 NC to Mike\"\n",
    "t2: \"Bob sends 4.3 NC to Mike\"\n",
    "t3: \"Mark sends 3.2 NC to Bob\"\n",
    "\n",
    "B1 (\"INIT\", t1, t2, t3) -> 76fd89, B2 (76fd89, t4, t5, t6) -> 8923ff, B3 (8923ff, t7, t8, t9) -> \n",
    "'''"
   ]
  },
  {
   "cell_type": "code",
   "execution_count": 1,
   "metadata": {
    "collapsed": true
   },
   "outputs": [],
   "source": [
    "import hashlib\n",
    "import datetime"
   ]
  },
  {
   "cell_type": "code",
   "execution_count": 2,
   "metadata": {
    "collapsed": true
   },
   "outputs": [],
   "source": [
    "t1 = \"Anna sends 2 NC to Mike\"\n",
    "t2 = \"Bob sends 4.3 NC to Mike\"\n",
    "t3 = \"Mark sends 3.2 NC to Bob\"\n",
    "t4 = \"Daniel sends 2 NC to Anna\"\n",
    "t5 = \"Mike sends 4.3 NC to Charlie\"\n",
    "t6 = \"Mike sends 3.2 NC to Daniel\""
   ]
  },
  {
   "cell_type": "code",
   "execution_count": 3,
   "metadata": {},
   "outputs": [],
   "source": [
    "class Block():\n",
    "    \n",
    "    def __init__(self, prev_block_hash, data, timestamp):\n",
    "        \n",
    "        self.prev_block_hash = prev_block_hash\n",
    "        self.data = data\n",
    "        self.timestamp = timestamp\n",
    "        \n",
    "        self.block_data = \"-\".join(self.data) + \"-\" + self.prev_block_hash\n",
    "        self.block_hash = self.get_hash()\n",
    "        \n",
    "    def get_hash(self):\n",
    "        \n",
    "        header_bin = (str(self.prev_block_hash) + str(self.data) + str(self.timestamp)).encode()\n",
    "        inner_hash = hashlib.sha256(header_bin).hexdigest().encode() \n",
    "        outer_hash = hashlib.sha256(inner_hash).hexdigest()\n",
    "        \n",
    "        return outer_hash"
   ]
  },
  {
   "cell_type": "code",
   "execution_count": 4,
   "metadata": {},
   "outputs": [
    {
     "name": "stdout",
     "output_type": "stream",
     "text": [
      "Anna sends 2 NC to Mike-Bob sends 4.3 NC to Mike-Initial Block\n",
      "69c2b3ad6a6493b5f6e1f57e6dc3624d927ae4ed85e1fe4b2d167da5baf66862\n"
     ]
    }
   ],
   "source": [
    "init_block = Block(\"Initial Block\", [t1, t2], datetime.datetime.now())\n",
    "\n",
    "print(init_block.block_data)\n",
    "print(init_block.block_hash)"
   ]
  },
  {
   "cell_type": "code",
   "execution_count": 5,
   "metadata": {},
   "outputs": [
    {
     "name": "stdout",
     "output_type": "stream",
     "text": [
      "Mark sends 3.2 NC to Bob-Daniel sends 2 NC to Anna-69c2b3ad6a6493b5f6e1f57e6dc3624d927ae4ed85e1fe4b2d167da5baf66862\n",
      "5e99fd12ab436b8df6f4dab29d3783ceb665a0717830348c5856d0ccb79d8d53\n"
     ]
    }
   ],
   "source": [
    "second_block = Block(init_block.block_hash, [t3, t4], datetime.datetime.now())\n",
    "\n",
    "print(second_block.block_data)\n",
    "print(second_block.block_hash)"
   ]
  },
  {
   "cell_type": "code",
   "execution_count": 6,
   "metadata": {},
   "outputs": [
    {
     "name": "stdout",
     "output_type": "stream",
     "text": [
      "Mike sends 4.3 NC to Charlie-Mike sends 3.2 NC to Daniel-5e99fd12ab436b8df6f4dab29d3783ceb665a0717830348c5856d0ccb79d8d53\n",
      "97b6c6359032aeac7643730a241312d67f8f2322d76c3d16c5e3ed32d42ab306\n"
     ]
    }
   ],
   "source": [
    "third_block = Block(second_block.block_hash, [t5, t6], datetime.datetime.now())\n",
    "\n",
    "print(third_block.block_data)\n",
    "print(third_block.block_hash)"
   ]
  },
  {
   "cell_type": "markdown",
   "metadata": {},
   "source": [
    "---"
   ]
  }
 ],
 "metadata": {
  "kernelspec": {
   "display_name": "Python 3",
   "language": "python",
   "name": "python3"
  },
  "language_info": {
   "codemirror_mode": {
    "name": "ipython",
    "version": 3
   },
   "file_extension": ".py",
   "mimetype": "text/x-python",
   "name": "python",
   "nbconvert_exporter": "python",
   "pygments_lexer": "ipython3",
   "version": "3.6.7"
  }
 },
 "nbformat": 4,
 "nbformat_minor": 2
}
